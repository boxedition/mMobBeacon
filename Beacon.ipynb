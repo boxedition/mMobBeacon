{
 "cells": [
  {
   "cell_type": "code",
   "execution_count": null,
   "metadata": {},
   "outputs": [],
   "source": [
    "import os"
   ]
  },
  {
   "cell_type": "code",
   "execution_count": null,
   "metadata": {},
   "outputs": [],
   "source": [
    "file = open(\"./sensor.map.txt\", \"r\")\n",
    "data = file.read()\n",
    "file.close()\n",
    "\n",
    "print(data)"
   ]
  },
  {
   "cell_type": "code",
   "execution_count": null,
   "metadata": {},
   "outputs": [],
   "source": [
    "entries = data.split('---\\n')\n",
    "\n",
    "# Initialize lists to store extracted information\n",
    "timestamps = []\n",
    "rsids = []\n",
    "raw_packets = []\n",
    "ble_messages = []\n",
    "\n",
    "# Iterate through the entries\n",
    "for entry in entries:\n",
    "    # Split the entry into lines\n",
    "    lines = entry.strip().split('\\n')\n",
    "    # Check if there are at least two lines\n",
    "    if len(lines) >= 2:\n",
    "        # Extract whole packet from beacon\n",
    "        ble_message = lines[0].strip()\n",
    "        # Extract timestamp\n",
    "        timestamp = lines[1].strip()\n",
    "        # Extrating rsid\n",
    "        rsid = ble_message.split(',')[3].strip()\n",
    "        # Extrating Raw BLE\n",
    "        raw_packet = ble_message.split(',')[4].strip()\n",
    "        # Append extracted information to respective lists\n",
    "        timestamps.append(timestamp)\n",
    "        rsids.append(rsid)\n",
    "        ble_messages.append(ble_message)\n",
    "        raw_packets.append(raw_packet)\n",
    "        "
   ]
  },
  {
   "cell_type": "code",
   "execution_count": null,
   "metadata": {},
   "outputs": [],
   "source": [
    "# Initialize lists to store extracted information\n",
    "ble_data = []\n",
    "ble_data_split=[]\n",
    "\n",
    "# Iterate through each raw packet\n",
    "for raw_packet in raw_packets:\n",
    "    # Extract the length of the first data structure\n",
    "    first_structure_length = raw_packet[0:2]\n",
    "    \n",
    "    # Extract the type of the first data structure\n",
    "    first_structure_type = raw_packet[2:4]\n",
    "    \n",
    "    # Extract the flags data\n",
    "    flags_data = raw_packet[4:6]\n",
    "    \n",
    "    # Extract the length of the second data structure\n",
    "    second_structure_length = raw_packet[6:8]\n",
    "    \n",
    "    # Extract the type of the second data structure\n",
    "    second_structure_type = raw_packet[8:10]\n",
    "    \n",
    "    # Extract the length of the manufacturer-specific data\n",
    "    manufacturer_data_length = raw_packet[10:12]\n",
    "    \n",
    "    # Extract the manufacturer-specific data\n",
    "    manufacturer_data = raw_packet[12:]\n",
    "    \n",
    "    # Append the extracted information to the list\n",
    "    ble_data.append({\n",
    "        \"First Structure Length\": first_structure_length,\n",
    "        \"First Structure Type\": first_structure_type,\n",
    "        \"Flags Data\": flags_data,\n",
    "        \"Second Structure Length\": second_structure_length,\n",
    "        \"Second Structure Type\": second_structure_type,\n",
    "        \"Manufacturer Data Length\": manufacturer_data_length,\n",
    "        \"Manufacturer Data\": manufacturer_data\n",
    "    })\n",
    "\n",
    "    ble_data_split.append([ first_structure_length, first_structure_type, flags_data, second_structure_length, second_structure_type, manufacturer_data_length, manufacturer_data])"
   ]
  },
  {
   "cell_type": "code",
   "execution_count": null,
   "metadata": {},
   "outputs": [],
   "source": [
    "# Print the extracted information\n",
    "print(\"Lenght\")\n",
    "print(\"Timestamps:\", len(timestamps))\n",
    "print(\"BLE Messages:\", len(ble_messages))\n",
    "print(\"RSIDs:\", len(rsids))\n",
    "print(\"Raw Packets:\", len(raw_packets))\n",
    "print(\"BLE Data Split:\", len(ble_data_split))"
   ]
  },
  {
   "cell_type": "code",
   "execution_count": null,
   "metadata": {},
   "outputs": [],
   "source": [
    "# Initialize a list to store lines for the file\n",
    "file_lines = []\n",
    "\n",
    "# Iterate through each raw packet\n",
    "for timestamp, raw_packet, ble_data_split in zip(timestamps, raw_packets, ble_data_split):\n",
    "    # Create a line for the file containing timestamp, raw_packet, and ble_data\n",
    "    flattened_string = ' '.join(hex_string.upper() for hex_string in ble_data_split)\n",
    "    line = f\"{timestamp} {raw_packet} {flattened_string}\"\n",
    "    \n",
    "    # Append the line to the list\n",
    "    file_lines.append(line)\n",
    "\n",
    "print(file_lines)\n"
   ]
  },
  {
   "cell_type": "code",
   "execution_count": null,
   "metadata": {},
   "outputs": [],
   "source": [
    "# Specify the file path\n",
    "file_path = \"sensor.grid.txt\"\n",
    "\n",
    "# Open the file in write mode\n",
    "with open(file_path, \"w\") as file:\n",
    "    file.write(\"=======================================\\n\")\n",
    "    # Write each row of data in a formatted way\n",
    "    for row in file_lines:\n",
    "         # Split the row into date, time, and data\n",
    "        date, time, packet ,data = row.split(\" \", 3)\n",
    "        # Write date, time, and data in a formatted way\n",
    "        file.write(\"{:<12} {:<14} {:<64} {}\\n\".format(date, time, packet, data))"
   ]
  }
 ],
 "metadata": {
  "kernelspec": {
   "display_name": "Python 3",
   "language": "python",
   "name": "python3"
  },
  "language_info": {
   "codemirror_mode": {
    "name": "ipython",
    "version": 3
   },
   "file_extension": ".py",
   "mimetype": "text/x-python",
   "name": "python",
   "nbconvert_exporter": "python",
   "pygments_lexer": "ipython3",
   "version": "3.11.4"
  }
 },
 "nbformat": 4,
 "nbformat_minor": 2
}
